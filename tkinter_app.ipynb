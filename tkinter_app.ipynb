{
 "cells": [
  {
   "cell_type": "code",
   "execution_count": 1,
   "metadata": {},
   "outputs": [],
   "source": [
    "from tkinter import *\n",
    "import tkinter as tk\n",
    "from tkinter import simpledialog\n",
    "from tkinter import messagebox\n",
    "\n",
    "import pandas as pd\n",
    "import os\n",
    "import re\n",
    "from unidecode import unidecode\n",
    "import openpyxl\n",
    "\n",
    "from bs4 import BeautifulSoup\n",
    "import requests\n",
    "\n",
    "from typing import List\n",
    "\n",
    "from datetime import datetime"
   ]
  },
  {
   "cell_type": "code",
   "execution_count": 2,
   "metadata": {},
   "outputs": [],
   "source": [
    "# ---------- Python part ----------\n",
    "# ---- Extract robots.txt\n",
    "def research_func(input_user) :\n",
    "    print(input_user)\n"
   ]
  },
  {
   "cell_type": "code",
   "execution_count": 11,
   "metadata": {},
   "outputs": [],
   "source": [
    "def delete_historic_func() :\n",
    "    os.remove(input_user + \".csv\")"
   ]
  },
  {
   "cell_type": "code",
   "execution_count": 12,
   "metadata": {},
   "outputs": [
    {
     "name": "stderr",
     "output_type": "stream",
     "text": [
      "Exception in Tkinter callback\n",
      "Traceback (most recent call last):\n",
      "  File \"C:\\Program Files\\Python39\\lib\\tkinter\\__init__.py\", line 1892, in __call__\n",
      "    return self.func(*args)\n",
      "  File \"C:\\Users\\kdvd270\\AppData\\Local\\Temp\\ipykernel_27628\\5286866.py\", line 2, in delete_historic_func\n",
      "    os.remove(input_user + \".csv\")\n",
      "FileNotFoundError: [WinError 2] Le fichier spécifié est introuvable: '.csv'\n"
     ]
    }
   ],
   "source": [
    "# ---------- Tkinter app ----------\n",
    "# ---- Create tkinter window\n",
    "root = Tk()\n",
    "root.title(\"Veille stratégique theses.fr\")\n",
    "root.geometry('1000x300')\n",
    "\n",
    "# ---- Explanation texts\n",
    "explanation_text  = \"Cette application a pour but de vous aider à faire votre veille stratégique sur le site https://www.theses.fr. \\n\\n\" +\\\n",
    "\"Pour celà, voici les étapes : \\n\" +\\\n",
    "\"1. Sélectionner les mots-clés que vous souhaitez rechercher. \\n Vous pouvez entrez plusieurs mots-clés si vous les séparez par un point-virgule (;).\\n\" +\\\n",
    "\"2. Cliquez sur le bouton 'Rechercher' pour lancer la recherche. \\n\\n\" +\\\n",
    "\"Les tips : \\n\" +\\\n",
    "\"- les theses récupérées lors d'anciennes recherches ne ressortiront pas dans la recherche lancée et les futures recherches.\\n\" +\\\n",
    "\"Vous pouvez supprimer l'historique des recherches en entrant les mots-clés souhaitées et en cliquant sur 'Supprimer l'historique'. \\n\" +\\\n",
    "\"ATTENTION : pour supprimer l'historique, 1 seul mot clé à la fois !\\n\" +\\\n",
    "\"- pour quitter l'application, cliquez sur le bouton 'Quitter'\"\n",
    "lbl = Label(root, text = explanation_text, justify = LEFT)\n",
    "lbl.grid(column = 0, row = 0)\n",
    "\n",
    "# --- input_user\n",
    "e = Entry(root, width = 75)\n",
    "e.grid(column = 0, row = 1, sticky=\"w\")\n",
    "input_user = e.get()\n",
    "\n",
    "# ---- research button\n",
    "research_button = Button(root, text = \"Lancer la recherche\", command = research_func)\n",
    "research_button.grid(column = 1, row = 1)\n",
    "\n",
    "# ---- Button to delete historic\n",
    "delete_historic_button  = Button(root, text = \"Supprimer l'historique\", command=delete_historic_func)\n",
    "delete_historic_button.grid(column=2, row=1)\n",
    "\n",
    "# ---- Explanation app button\n",
    "def hello():\n",
    "   messagebox.showinfo(\"Présentation\", explanation_text)\n",
    "explanation_button = Button(root, text = \"Présentation\", command = hello, justify = LEFT)\n",
    "explanation_button.grid(column = 0, row = 2, sticky = \"w\")\n",
    "\n",
    "# ---- Exit button\n",
    "def close():\n",
    "   root.destroy()\n",
    "   root.quit()\n",
    "# Button(root, text= \"Close the Window\", font=(\"Calibri\",14,\"bold\"), command=close).pack(pady=20)\n",
    "close_button = Button(root, text= \"Quitter\", command=close)\n",
    "close_button.grid(column = 2, row = 2, sticky = \"e\")\n",
    " \n",
    "# ---- Main loop\n",
    "root.mainloop()"
   ]
  },
  {
   "cell_type": "code",
   "execution_count": null,
   "metadata": {},
   "outputs": [],
   "source": []
  }
 ],
 "metadata": {
  "interpreter": {
   "hash": "ac59ebe37160ed0dfa835113d9b8498d9f09ceb179beaac4002f036b9467c963"
  },
  "kernelspec": {
   "display_name": "Python 3.9.7 64-bit",
   "name": "python3"
  },
  "language_info": {
   "codemirror_mode": {
    "name": "ipython",
    "version": 3
   },
   "file_extension": ".py",
   "mimetype": "text/x-python",
   "name": "python",
   "nbconvert_exporter": "python",
   "pygments_lexer": "ipython3",
   "version": "3.9.7"
  },
  "orig_nbformat": 4
 },
 "nbformat": 4,
 "nbformat_minor": 2
}
