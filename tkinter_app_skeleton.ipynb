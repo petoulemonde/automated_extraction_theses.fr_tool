{
 "cells": [
  {
   "cell_type": "code",
   "execution_count": 142,
   "metadata": {},
   "outputs": [],
   "source": [
    "\n",
    "from tkinter import *\n",
    "from tkinter import messagebox\n",
    "\n",
    "# Format : 3 colonnes, 3 lignes\n",
    " \n",
    "# ---- Create tkinter window\n",
    "root = Tk()\n",
    "root.title(\"Veille stratégique theses.fr\")\n",
    "root.geometry('1000x300')\n",
    "\n",
    "# ---- Explanation texts\n",
    "explanation_text  = \"Cette application a pour but de vous aider à faire votre veille stratégique sur le site https://www.theses.fr. \\n\\n\" +\\\n",
    "\"Pour celà, voici les étapes : \\n\" +\\\n",
    "\"1. Sélectionner les mots-clés que vous souhaitez rechercher. \\n Vous pouvez entrez plusieurs mots-clés si vous les séparez par un point-virgule (;).\\n\" +\\\n",
    "\"2. Cliquez sur le bouton 'Rechercher' pour lancer la recherche. \\n\\n\" +\\\n",
    "\"Les tips : \\n\" +\\\n",
    "\"- les theses récupérées lors d'anciennes recherches ne ressortiront pas dans la recherche lancée et les futures recherches.\\n\" +\\\n",
    "\"Vous pouvez supprimer l'historique des recherches en entrant les mots-clés souhaitées et en cliquant sur 'Supprimer l'historique'. \\n\" +\\\n",
    "\"ATTENTION : pour supprimer l'historique, 1 seul mot clé à la fois !\\n\" +\\\n",
    "\"- pour quitter l'application, cliquez sur le bouton 'Quitter'\"\n",
    "lbl = Label(root, text = explanation_text, justify = LEFT)\n",
    "lbl.grid(column = 0, row = 0)\n",
    "\n",
    "# --- input_user\n",
    "e = Entry(root, width = 75)\n",
    "e.grid(column = 0, row = 1, sticky=\"w\")\n",
    "\n",
    "# ---- research button\n",
    "research_button = Button(root, text = \"Lancer la recherche\", command = func_print)\n",
    "research_button.grid(column = 1, row = 1)\n",
    "\n",
    "# ---- Button to delete historic\n",
    "delete_historic_button  = Button(root, text = \"Supprimer l'historique\", command=func_print)\n",
    "delete_historic_button.grid(column=2, row=1)\n",
    "\n",
    "# ---- Explanation app button\n",
    "def hello():\n",
    "   messagebox.showinfo(\"Présentation\", explanation_text)\n",
    "explanation_button = Button(root, text = \"Présentation\", command = hello, justify = LEFT)\n",
    "explanation_button.grid(column = 0, row = 2, sticky = \"w\")\n",
    "\n",
    "# ---- Exit button\n",
    "def close():\n",
    "   root.destroy()\n",
    "   root.quit()\n",
    "# Button(root, text= \"Close the Window\", font=(\"Calibri\",14,\"bold\"), command=close).pack(pady=20)\n",
    "close_button = Button(root, text= \"Quitter\", command=close)\n",
    "close_button.grid(column = 2, row = 2, sticky = \"e\")\n",
    " \n",
    "# ---- Main loop\n",
    "root.mainloop()"
   ]
  },
  {
   "cell_type": "code",
   "execution_count": null,
   "metadata": {},
   "outputs": [],
   "source": []
  }
 ],
 "metadata": {
  "colab": {
   "provenance": []
  },
  "interpreter": {
   "hash": "ac59ebe37160ed0dfa835113d9b8498d9f09ceb179beaac4002f036b9467c963"
  },
  "kernelspec": {
   "display_name": "Python 3.9.7 64-bit",
   "name": "python3"
  },
  "language_info": {
   "codemirror_mode": {
    "name": "ipython",
    "version": 3
   },
   "file_extension": ".py",
   "mimetype": "text/x-python",
   "name": "python",
   "nbconvert_exporter": "python",
   "pygments_lexer": "ipython3",
   "version": "3.9.7"
  }
 },
 "nbformat": 4,
 "nbformat_minor": 4
}
